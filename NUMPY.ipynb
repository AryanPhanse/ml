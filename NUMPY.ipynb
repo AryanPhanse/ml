{
  "nbformat": 4,
  "nbformat_minor": 0,
  "metadata": {
    "colab": {
      "provenance": [],
      "authorship_tag": "ABX9TyPex9XbBMadaMC7SJQhvwM/",
      "include_colab_link": true
    },
    "kernelspec": {
      "name": "python3",
      "display_name": "Python 3"
    },
    "language_info": {
      "name": "python"
    }
  },
  "cells": [
    {
      "cell_type": "markdown",
      "metadata": {
        "id": "view-in-github",
        "colab_type": "text"
      },
      "source": [
        "<a href=\"https://colab.research.google.com/github/AryanPhanse/ml/blob/main/NUMPY.ipynb\" target=\"_parent\"><img src=\"https://colab.research.google.com/assets/colab-badge.svg\" alt=\"Open In Colab\"/></a>"
      ]
    },
    {
      "cell_type": "markdown",
      "source": [
        "Numpy allows several mathematical functions and faster operations"
      ],
      "metadata": {
        "id": "tOI0dTgL5fVf"
      }
    },
    {
      "cell_type": "code",
      "execution_count": 1,
      "metadata": {
        "id": "rtZTjwsHQJAE"
      },
      "outputs": [],
      "source": [
        "import numpy as np"
      ]
    },
    {
      "cell_type": "code",
      "source": [
        "#create numpy arrays same as 1d array\n",
        "np_array=np.array([1,2,3,4,5])\n",
        "print(np_array)\n",
        "type(np_array)\n",
        "print(np_array.shape) #shape of array since it is 1d array it gives no of columns in output"
      ],
      "metadata": {
        "colab": {
          "base_uri": "https://localhost:8080/"
        },
        "id": "Gw3Z_M1653Ke",
        "outputId": "32c4588e-5c72-4b1f-924d-5461af24d144"
      },
      "execution_count": 8,
      "outputs": [
        {
          "output_type": "stream",
          "name": "stdout",
          "text": [
            "[1 2 3 4 5]\n",
            "(5,)\n"
          ]
        }
      ]
    },
    {
      "cell_type": "code",
      "source": [
        "#2d array\n",
        "np_array_2d=np.array([[1,2,3],[4,5,6]])\n",
        "print(np_array_2d)\n",
        "print(np_array_2d.shape) #2 rows and 3 columns\n",
        "#converting it to float\n",
        "np_array_2d=np.array([[1,2,3],[4,5,6]],dtype=float)\n",
        "print(np_array_2d)"
      ],
      "metadata": {
        "colab": {
          "base_uri": "https://localhost:8080/"
        },
        "id": "mBUJOMwt6occ",
        "outputId": "341bd74d-5e96-40ba-f832-2672831f718e"
      },
      "execution_count": 10,
      "outputs": [
        {
          "output_type": "stream",
          "name": "stdout",
          "text": [
            "[[1 2 3]\n",
            " [4 5 6]]\n",
            "(2, 3)\n",
            "[[1. 2. 3.]\n",
            " [4. 5. 6.]]\n"
          ]
        }
      ]
    },
    {
      "cell_type": "code",
      "source": [
        "#creating numpy array of zeroes\n",
        "x=np.zeros((3,4)) #3 is no of rows and 4 is no of columns\n",
        "print(x)\n",
        "#creating numpy array of ones\n",
        "x=np.ones((3,4)) #3 is no of rows and 4 is no of columns\n",
        "print(x)\n",
        "#creating numpy array eith specific value\n",
        "x=np.full((3,4),5) #3 is no of rows and 4 is no of columns, 5 is the value of each element\n",
        "print(x)\n",
        "#creating identity matrix\n",
        "x=np.eye(4) #4x4 matrix since identity matrix is square\n",
        "print(x)\n",
        "\n",
        "#creating numpy array with random values\n",
        "x=np.random.random((3,4)) #3 is no of rows and 4 is no of columns\n",
        "print(x) # the random values is between 0 to 1\n",
        "#creating random integer values array within specific range\n",
        "x=np.random.randint(0,10,(3,4)) #3 is no of rows and 4 is no of columns, 0 to 10 is the range\n",
        "print(x)\n",
        "#array of evenly spaced values\n",
        "x=np.linspace(0,20,5) #0 to 10 is the range and 5 is the no of values\n",
        "print(x)\n",
        "#array of evenly spaced values with step value\n",
        "x=np.arange(0,20,5) #0 to 10 is the range and 5 is the step value\n",
        "print(x)"
      ],
      "metadata": {
        "colab": {
          "base_uri": "https://localhost:8080/"
        },
        "id": "xbJ08d6a7Lxg",
        "outputId": "afbca5eb-1a5f-4a5b-c212-268094cc4daf"
      },
      "execution_count": 18,
      "outputs": [
        {
          "output_type": "stream",
          "name": "stdout",
          "text": [
            "[[0. 0. 0. 0.]\n",
            " [0. 0. 0. 0.]\n",
            " [0. 0. 0. 0.]]\n",
            "[[1. 1. 1. 1.]\n",
            " [1. 1. 1. 1.]\n",
            " [1. 1. 1. 1.]]\n",
            "[[5 5 5 5]\n",
            " [5 5 5 5]\n",
            " [5 5 5 5]]\n",
            "[[1. 0. 0. 0.]\n",
            " [0. 1. 0. 0.]\n",
            " [0. 0. 1. 0.]\n",
            " [0. 0. 0. 1.]]\n",
            "[[0.92242534 0.39153484 0.53276626 0.28964394]\n",
            " [0.65921103 0.18773231 0.97769007 0.86023918]\n",
            " [0.97933266 0.05897205 0.81111756 0.31736261]]\n",
            "[[1 1 0 9]\n",
            " [3 0 0 5]\n",
            " [3 3 6 1]]\n",
            "[ 0.  5. 10. 15. 20.]\n",
            "[ 0  5 10 15]\n"
          ]
        }
      ]
    },
    {
      "cell_type": "code",
      "source": [
        "#converting list to numpy array\n",
        "list=[1,2,3,4,5]\n",
        "np_array=np.array(list)\n",
        "print(np_array)\n",
        "type(np_array)\n"
      ],
      "metadata": {
        "colab": {
          "base_uri": "https://localhost:8080/"
        },
        "id": "BAaJlC_R7nU8",
        "outputId": "8e8e96f6-b370-4006-f12d-f193efe18157"
      },
      "execution_count": 20,
      "outputs": [
        {
          "output_type": "stream",
          "name": "stdout",
          "text": [
            "[1 2 3 4 5]\n"
          ]
        },
        {
          "output_type": "execute_result",
          "data": {
            "text/plain": [
              "numpy.ndarray"
            ]
          },
          "metadata": {},
          "execution_count": 20
        }
      ]
    },
    {
      "cell_type": "code",
      "source": [
        "#Analysing numpy array\n",
        "c=np.random.randint(10,100,(3,2))\n",
        "print(c)\n",
        "print(c.shape)\n",
        "print(c.size) #gives total elements\n",
        "print(c.dtype)"
      ],
      "metadata": {
        "colab": {
          "base_uri": "https://localhost:8080/"
        },
        "id": "lMrrZgrt9KNd",
        "outputId": "1233d69b-76dd-4b12-900e-d54bad0000d2"
      },
      "execution_count": 22,
      "outputs": [
        {
          "output_type": "stream",
          "name": "stdout",
          "text": [
            "[[93 82]\n",
            " [72 62]\n",
            " [84 22]]\n",
            "(3, 2)\n",
            "6\n",
            "int64\n"
          ]
        }
      ]
    },
    {
      "cell_type": "code",
      "source": [
        "#mathematical operations on np array\n",
        "a=np.random.randint(0,10,(3,3))\n",
        "b=np.random.randint(10,20,(3,3))\n",
        "print(a)\n",
        "print(b)\n",
        "print(a+b)\n",
        "print(a-b)\n",
        "#another way to add is\n",
        "print(np.add(a,b))\n",
        "print(np.subtract(a,b))\n",
        "print(np.multiply(a,b))\n",
        "print(np.divide(a,b))"
      ],
      "metadata": {
        "colab": {
          "base_uri": "https://localhost:8080/"
        },
        "id": "Cu4j7zI_9Y-j",
        "outputId": "953847ea-7d16-40d7-c645-c53bbf52b847"
      },
      "execution_count": 25,
      "outputs": [
        {
          "output_type": "stream",
          "name": "stdout",
          "text": [
            "[[2 2 3]\n",
            " [6 0 2]\n",
            " [3 9 2]]\n",
            "[[15 12 19]\n",
            " [19 15 16]\n",
            " [14 16 16]]\n",
            "[[17 14 22]\n",
            " [25 15 18]\n",
            " [17 25 18]]\n",
            "[[-13 -10 -16]\n",
            " [-13 -15 -14]\n",
            " [-11  -7 -14]]\n",
            "[[17 14 22]\n",
            " [25 15 18]\n",
            " [17 25 18]]\n",
            "[[-13 -10 -16]\n",
            " [-13 -15 -14]\n",
            " [-11  -7 -14]]\n",
            "[[ 30  24  57]\n",
            " [114   0  32]\n",
            " [ 42 144  32]]\n",
            "[[0.13333333 0.16666667 0.15789474]\n",
            " [0.31578947 0.         0.125     ]\n",
            " [0.21428571 0.5625     0.125     ]]\n"
          ]
        }
      ]
    },
    {
      "cell_type": "code",
      "source": [
        "#transpose an array\n",
        "array=np.random.randint(0,10,(2,3))\n",
        "print(array)\n",
        "trans=np.transpose(array)\n",
        "print(trans)\n",
        "#another way to transpose\n",
        "trans2=array.T\n",
        "print(trans2)\n"
      ],
      "metadata": {
        "colab": {
          "base_uri": "https://localhost:8080/"
        },
        "id": "NRQ1pYcC9xuE",
        "outputId": "670d479c-2663-46ab-cd43-85a0c206b2ed"
      },
      "execution_count": 26,
      "outputs": [
        {
          "output_type": "stream",
          "name": "stdout",
          "text": [
            "[[0 6 2]\n",
            " [8 0 6]]\n",
            "[[0 8]\n",
            " [6 0]\n",
            " [2 6]]\n",
            "[[0 8]\n",
            " [6 0]\n",
            " [2 6]]\n"
          ]
        }
      ]
    },
    {
      "cell_type": "code",
      "source": [
        "#reshaping an array\n",
        "array=np.random.randint(0,10,(2,3))\n",
        "print(array)\n",
        "print(array.shape)\n",
        "trans=array.reshape(3,2)\n",
        "print(trans)\n",
        "print(trans.shape)"
      ],
      "metadata": {
        "colab": {
          "base_uri": "https://localhost:8080/"
        },
        "id": "VU69trrN-N3A",
        "outputId": "61791f32-2347-4ccb-8f54-e9692c635174"
      },
      "execution_count": 27,
      "outputs": [
        {
          "output_type": "stream",
          "name": "stdout",
          "text": [
            "[[8 9 7]\n",
            " [9 8 9]]\n",
            "(2, 3)\n",
            "[[8 9]\n",
            " [7 9]\n",
            " [8 9]]\n",
            "(3, 2)\n"
          ]
        }
      ]
    },
    {
      "cell_type": "code",
      "source": [],
      "metadata": {
        "id": "-KMyfWmm-Xoc"
      },
      "execution_count": null,
      "outputs": []
    }
  ]
}