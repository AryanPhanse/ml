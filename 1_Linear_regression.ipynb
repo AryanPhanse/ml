{
  "nbformat": 4,
  "nbformat_minor": 0,
  "metadata": {
    "colab": {
      "provenance": [],
      "authorship_tag": "ABX9TyPhMWFTfwH3WQyM+zialzt3",
      "include_colab_link": true
    },
    "kernelspec": {
      "name": "python3",
      "display_name": "Python 3"
    },
    "language_info": {
      "name": "python"
    }
  },
  "cells": [
    {
      "cell_type": "markdown",
      "metadata": {
        "id": "view-in-github",
        "colab_type": "text"
      },
      "source": [
        "<a href=\"https://colab.research.google.com/github/AryanPhanse/ml/blob/main/1_Linear_regression.ipynb\" target=\"_parent\"><img src=\"https://colab.research.google.com/assets/colab-badge.svg\" alt=\"Open In Colab\"/></a>"
      ]
    },
    {
      "cell_type": "markdown",
      "source": [
        "Linear Regression:\n",
        "\n",
        "Y = wX + b\n",
        "\n",
        "Y --> Dependent Variable\n",
        "\n",
        "X --> Independent Variable\n",
        "\n",
        "w --> weight\n",
        "\n",
        "b --> bias\n",
        "\n",
        "Gradient Descent:\n",
        "\n",
        "Gradient Descent is an optimization algorithm used for minimizing the loss function in various machine learning algorithms. It is used for updating the parameters of the learning model.\n",
        "\n",
        "w = w - α*dw\n",
        "\n",
        "b = b - α*db\n",
        "\n",
        "Learning Rate():\n",
        "\n",
        "Learning rate is a tuning parameter in an optimization algorithm that determines the step size at each iteration while moving toward a minimum of a loss function.\n",
        "\n",
        "\n",
        "![dw.png](data:image/png;base64,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)\n",
        "\n",
        "![db.png](data:image/png;base64,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)\n",
        "\n"
      ],
      "metadata": {
        "id": "L_t05eQA4aKX"
      }
    },
    {
      "cell_type": "code",
      "execution_count": 2,
      "metadata": {
        "id": "unkuOTxP4XOL"
      },
      "outputs": [],
      "source": [
        "#importing numpy\n",
        "import numpy as np"
      ]
    },
    {
      "cell_type": "markdown",
      "source": [
        "**LINEAR REGRESSION**"
      ],
      "metadata": {
        "id": "Oz84GHF56EFh"
      }
    },
    {
      "cell_type": "code",
      "source": [
        "class Linear_Regression() :\n",
        "\n",
        "#initiating the parameters :learning rate and no of iterations\n",
        "  def __init__(self , learning_rate , no_of_iterations): #learning rate and no of iterations are the hyperparameters\n",
        "    self.learning_rate=learning_rate\n",
        "    self.no_of_iterations=no_of_iterations\n",
        "\n",
        "  def fit(self,X,Y):\n",
        "    #no of training(m) examples and features(n)\n",
        "    self.m,self.n = X.shape #no of rows m and columns n is no of rows\n",
        "    #initiating weight and bias value\n",
        "    self.w = np.zeros(self.n)  #matrix with n columns with all values as 0\n",
        "    self.b = 0  #bias has only 1 value\n",
        "    self.X = X\n",
        "    self.Y = Y\n",
        "\n",
        "    #implementing gradient descent\n",
        "    for i in range(self.no_of_iterations):\n",
        "      self.update_weights()\n",
        "\n",
        "\n",
        "  def update_weights(self):\n",
        "    Y_prediction = self.predict(self.X)\n",
        "\n",
        "    #calculating gradients\n",
        "    dw = - (2 * (self.X.T).dot(self.Y - Y_prediction)) / self.m #formula of dw\n",
        "    db = - 2 * np.sum(self.Y - Y_prediction)/self.m #formula of db\n",
        "\n",
        "    #updating the weights\n",
        "    self.w = self.w - self.learning_rate * dw #w=w-a*dw\n",
        "    self.b = self.b - self.learning_rate * db\n",
        "\n",
        "  def predict(self,X):\n",
        "    return X.dot(self.w)+self.b #y=wx+b we do dot product for wx since w is an numpy array\n",
        "\n",
        "\n",
        "\n",
        "\n"
      ],
      "metadata": {
        "id": "_H2c95JB6AYR"
      },
      "execution_count": 3,
      "outputs": []
    },
    {
      "cell_type": "markdown",
      "source": [
        "Steps 1: set learning rate and no of iterations, initate random weight and bias values\n",
        "\n",
        "Step 2:build linear regression equation y=wx+b\n",
        "\n",
        "step 3:find y_pred value for given x value and weight and bias\n",
        "\n",
        "step 4: check loss function value at these values\n",
        "\n",
        "step 5 update parameters using gradient descent\n",
        "\n",
        "step 6 : repeat till optimal values are reached\n",
        "\n",
        "\n"
      ],
      "metadata": {
        "id": "CBD4e6sbnAFg"
      }
    },
    {
      "cell_type": "code",
      "source": [
        "#importing\n",
        "import pandas as pd\n",
        "from sklearn.model_selection import train_test_split\n",
        "import matplotlib.pyplot as plt"
      ],
      "metadata": {
        "id": "w49Hli-c6Nbv"
      },
      "execution_count": 4,
      "outputs": []
    },
    {
      "cell_type": "code",
      "source": [
        "#data preprocessing\n",
        "#loading the data\n",
        "salary_data=pd.read_csv('/content/salary_data.csv')\n"
      ],
      "metadata": {
        "id": "6zXe5TGto-6V"
      },
      "execution_count": 7,
      "outputs": []
    },
    {
      "cell_type": "code",
      "source": [
        "salary_data.head()"
      ],
      "metadata": {
        "colab": {
          "base_uri": "https://localhost:8080/",
          "height": 206
        },
        "id": "AP1Y3CKFpI1a",
        "outputId": "144ad0a4-80e0-49e0-dc42-aa9407394908"
      },
      "execution_count": 8,
      "outputs": [
        {
          "output_type": "execute_result",
          "data": {
            "text/plain": [
              "   YearsExperience  Salary\n",
              "0              1.1   39343\n",
              "1              1.3   46205\n",
              "2              1.5   37731\n",
              "3              2.0   43525\n",
              "4              2.2   39891"
            ],
            "text/html": [
              "\n",
              "  <div id=\"df-45a82e4f-2626-4dad-b4b8-a5c88f7b10f5\" class=\"colab-df-container\">\n",
              "    <div>\n",
              "<style scoped>\n",
              "    .dataframe tbody tr th:only-of-type {\n",
              "        vertical-align: middle;\n",
              "    }\n",
              "\n",
              "    .dataframe tbody tr th {\n",
              "        vertical-align: top;\n",
              "    }\n",
              "\n",
              "    .dataframe thead th {\n",
              "        text-align: right;\n",
              "    }\n",
              "</style>\n",
              "<table border=\"1\" class=\"dataframe\">\n",
              "  <thead>\n",
              "    <tr style=\"text-align: right;\">\n",
              "      <th></th>\n",
              "      <th>YearsExperience</th>\n",
              "      <th>Salary</th>\n",
              "    </tr>\n",
              "  </thead>\n",
              "  <tbody>\n",
              "    <tr>\n",
              "      <th>0</th>\n",
              "      <td>1.1</td>\n",
              "      <td>39343</td>\n",
              "    </tr>\n",
              "    <tr>\n",
              "      <th>1</th>\n",
              "      <td>1.3</td>\n",
              "      <td>46205</td>\n",
              "    </tr>\n",
              "    <tr>\n",
              "      <th>2</th>\n",
              "      <td>1.5</td>\n",
              "      <td>37731</td>\n",
              "    </tr>\n",
              "    <tr>\n",
              "      <th>3</th>\n",
              "      <td>2.0</td>\n",
              "      <td>43525</td>\n",
              "    </tr>\n",
              "    <tr>\n",
              "      <th>4</th>\n",
              "      <td>2.2</td>\n",
              "      <td>39891</td>\n",
              "    </tr>\n",
              "  </tbody>\n",
              "</table>\n",
              "</div>\n",
              "    <div class=\"colab-df-buttons\">\n",
              "\n",
              "  <div class=\"colab-df-container\">\n",
              "    <button class=\"colab-df-convert\" onclick=\"convertToInteractive('df-45a82e4f-2626-4dad-b4b8-a5c88f7b10f5')\"\n",
              "            title=\"Convert this dataframe to an interactive table.\"\n",
              "            style=\"display:none;\">\n",
              "\n",
              "  <svg xmlns=\"http://www.w3.org/2000/svg\" height=\"24px\" viewBox=\"0 -960 960 960\">\n",
              "    <path d=\"M120-120v-720h720v720H120Zm60-500h600v-160H180v160Zm220 220h160v-160H400v160Zm0 220h160v-160H400v160ZM180-400h160v-160H180v160Zm440 0h160v-160H620v160ZM180-180h160v-160H180v160Zm440 0h160v-160H620v160Z\"/>\n",
              "  </svg>\n",
              "    </button>\n",
              "\n",
              "  <style>\n",
              "    .colab-df-container {\n",
              "      display:flex;\n",
              "      gap: 12px;\n",
              "    }\n",
              "\n",
              "    .colab-df-convert {\n",
              "      background-color: #E8F0FE;\n",
              "      border: none;\n",
              "      border-radius: 50%;\n",
              "      cursor: pointer;\n",
              "      display: none;\n",
              "      fill: #1967D2;\n",
              "      height: 32px;\n",
              "      padding: 0 0 0 0;\n",
              "      width: 32px;\n",
              "    }\n",
              "\n",
              "    .colab-df-convert:hover {\n",
              "      background-color: #E2EBFA;\n",
              "      box-shadow: 0px 1px 2px rgba(60, 64, 67, 0.3), 0px 1px 3px 1px rgba(60, 64, 67, 0.15);\n",
              "      fill: #174EA6;\n",
              "    }\n",
              "\n",
              "    .colab-df-buttons div {\n",
              "      margin-bottom: 4px;\n",
              "    }\n",
              "\n",
              "    [theme=dark] .colab-df-convert {\n",
              "      background-color: #3B4455;\n",
              "      fill: #D2E3FC;\n",
              "    }\n",
              "\n",
              "    [theme=dark] .colab-df-convert:hover {\n",
              "      background-color: #434B5C;\n",
              "      box-shadow: 0px 1px 3px 1px rgba(0, 0, 0, 0.15);\n",
              "      filter: drop-shadow(0px 1px 2px rgba(0, 0, 0, 0.3));\n",
              "      fill: #FFFFFF;\n",
              "    }\n",
              "  </style>\n",
              "\n",
              "    <script>\n",
              "      const buttonEl =\n",
              "        document.querySelector('#df-45a82e4f-2626-4dad-b4b8-a5c88f7b10f5 button.colab-df-convert');\n",
              "      buttonEl.style.display =\n",
              "        google.colab.kernel.accessAllowed ? 'block' : 'none';\n",
              "\n",
              "      async function convertToInteractive(key) {\n",
              "        const element = document.querySelector('#df-45a82e4f-2626-4dad-b4b8-a5c88f7b10f5');\n",
              "        const dataTable =\n",
              "          await google.colab.kernel.invokeFunction('convertToInteractive',\n",
              "                                                    [key], {});\n",
              "        if (!dataTable) return;\n",
              "\n",
              "        const docLinkHtml = 'Like what you see? Visit the ' +\n",
              "          '<a target=\"_blank\" href=https://colab.research.google.com/notebooks/data_table.ipynb>data table notebook</a>'\n",
              "          + ' to learn more about interactive tables.';\n",
              "        element.innerHTML = '';\n",
              "        dataTable['output_type'] = 'display_data';\n",
              "        await google.colab.output.renderOutput(dataTable, element);\n",
              "        const docLink = document.createElement('div');\n",
              "        docLink.innerHTML = docLinkHtml;\n",
              "        element.appendChild(docLink);\n",
              "      }\n",
              "    </script>\n",
              "  </div>\n",
              "\n",
              "\n",
              "<div id=\"df-46e8dfa6-a855-42f9-8018-fe9a66a89322\">\n",
              "  <button class=\"colab-df-quickchart\" onclick=\"quickchart('df-46e8dfa6-a855-42f9-8018-fe9a66a89322')\"\n",
              "            title=\"Suggest charts\"\n",
              "            style=\"display:none;\">\n",
              "\n",
              "<svg xmlns=\"http://www.w3.org/2000/svg\" height=\"24px\"viewBox=\"0 0 24 24\"\n",
              "     width=\"24px\">\n",
              "    <g>\n",
              "        <path d=\"M19 3H5c-1.1 0-2 .9-2 2v14c0 1.1.9 2 2 2h14c1.1 0 2-.9 2-2V5c0-1.1-.9-2-2-2zM9 17H7v-7h2v7zm4 0h-2V7h2v10zm4 0h-2v-4h2v4z\"/>\n",
              "    </g>\n",
              "</svg>\n",
              "  </button>\n",
              "\n",
              "<style>\n",
              "  .colab-df-quickchart {\n",
              "      --bg-color: #E8F0FE;\n",
              "      --fill-color: #1967D2;\n",
              "      --hover-bg-color: #E2EBFA;\n",
              "      --hover-fill-color: #174EA6;\n",
              "      --disabled-fill-color: #AAA;\n",
              "      --disabled-bg-color: #DDD;\n",
              "  }\n",
              "\n",
              "  [theme=dark] .colab-df-quickchart {\n",
              "      --bg-color: #3B4455;\n",
              "      --fill-color: #D2E3FC;\n",
              "      --hover-bg-color: #434B5C;\n",
              "      --hover-fill-color: #FFFFFF;\n",
              "      --disabled-bg-color: #3B4455;\n",
              "      --disabled-fill-color: #666;\n",
              "  }\n",
              "\n",
              "  .colab-df-quickchart {\n",
              "    background-color: var(--bg-color);\n",
              "    border: none;\n",
              "    border-radius: 50%;\n",
              "    cursor: pointer;\n",
              "    display: none;\n",
              "    fill: var(--fill-color);\n",
              "    height: 32px;\n",
              "    padding: 0;\n",
              "    width: 32px;\n",
              "  }\n",
              "\n",
              "  .colab-df-quickchart:hover {\n",
              "    background-color: var(--hover-bg-color);\n",
              "    box-shadow: 0 1px 2px rgba(60, 64, 67, 0.3), 0 1px 3px 1px rgba(60, 64, 67, 0.15);\n",
              "    fill: var(--button-hover-fill-color);\n",
              "  }\n",
              "\n",
              "  .colab-df-quickchart-complete:disabled,\n",
              "  .colab-df-quickchart-complete:disabled:hover {\n",
              "    background-color: var(--disabled-bg-color);\n",
              "    fill: var(--disabled-fill-color);\n",
              "    box-shadow: none;\n",
              "  }\n",
              "\n",
              "  .colab-df-spinner {\n",
              "    border: 2px solid var(--fill-color);\n",
              "    border-color: transparent;\n",
              "    border-bottom-color: var(--fill-color);\n",
              "    animation:\n",
              "      spin 1s steps(1) infinite;\n",
              "  }\n",
              "\n",
              "  @keyframes spin {\n",
              "    0% {\n",
              "      border-color: transparent;\n",
              "      border-bottom-color: var(--fill-color);\n",
              "      border-left-color: var(--fill-color);\n",
              "    }\n",
              "    20% {\n",
              "      border-color: transparent;\n",
              "      border-left-color: var(--fill-color);\n",
              "      border-top-color: var(--fill-color);\n",
              "    }\n",
              "    30% {\n",
              "      border-color: transparent;\n",
              "      border-left-color: var(--fill-color);\n",
              "      border-top-color: var(--fill-color);\n",
              "      border-right-color: var(--fill-color);\n",
              "    }\n",
              "    40% {\n",
              "      border-color: transparent;\n",
              "      border-right-color: var(--fill-color);\n",
              "      border-top-color: var(--fill-color);\n",
              "    }\n",
              "    60% {\n",
              "      border-color: transparent;\n",
              "      border-right-color: var(--fill-color);\n",
              "    }\n",
              "    80% {\n",
              "      border-color: transparent;\n",
              "      border-right-color: var(--fill-color);\n",
              "      border-bottom-color: var(--fill-color);\n",
              "    }\n",
              "    90% {\n",
              "      border-color: transparent;\n",
              "      border-bottom-color: var(--fill-color);\n",
              "    }\n",
              "  }\n",
              "</style>\n",
              "\n",
              "  <script>\n",
              "    async function quickchart(key) {\n",
              "      const quickchartButtonEl =\n",
              "        document.querySelector('#' + key + ' button');\n",
              "      quickchartButtonEl.disabled = true;  // To prevent multiple clicks.\n",
              "      quickchartButtonEl.classList.add('colab-df-spinner');\n",
              "      try {\n",
              "        const charts = await google.colab.kernel.invokeFunction(\n",
              "            'suggestCharts', [key], {});\n",
              "      } catch (error) {\n",
              "        console.error('Error during call to suggestCharts:', error);\n",
              "      }\n",
              "      quickchartButtonEl.classList.remove('colab-df-spinner');\n",
              "      quickchartButtonEl.classList.add('colab-df-quickchart-complete');\n",
              "    }\n",
              "    (() => {\n",
              "      let quickchartButtonEl =\n",
              "        document.querySelector('#df-46e8dfa6-a855-42f9-8018-fe9a66a89322 button');\n",
              "      quickchartButtonEl.style.display =\n",
              "        google.colab.kernel.accessAllowed ? 'block' : 'none';\n",
              "    })();\n",
              "  </script>\n",
              "</div>\n",
              "\n",
              "    </div>\n",
              "  </div>\n"
            ],
            "application/vnd.google.colaboratory.intrinsic+json": {
              "type": "dataframe",
              "variable_name": "salary_data",
              "summary": "{\n  \"name\": \"salary_data\",\n  \"rows\": 30,\n  \"fields\": [\n    {\n      \"column\": \"YearsExperience\",\n      \"properties\": {\n        \"dtype\": \"number\",\n        \"std\": 2.8378881576627184,\n        \"min\": 1.1,\n        \"max\": 10.5,\n        \"num_unique_values\": 28,\n        \"samples\": [\n          3.9,\n          9.6,\n          3.7\n        ],\n        \"semantic_type\": \"\",\n        \"description\": \"\"\n      }\n    },\n    {\n      \"column\": \"Salary\",\n      \"properties\": {\n        \"dtype\": \"number\",\n        \"std\": 27414,\n        \"min\": 37731,\n        \"max\": 122391,\n        \"num_unique_values\": 30,\n        \"samples\": [\n          112635,\n          67938,\n          113812\n        ],\n        \"semantic_type\": \"\",\n        \"description\": \"\"\n      }\n    }\n  ]\n}"
            }
          },
          "metadata": {},
          "execution_count": 8
        }
      ]
    },
    {
      "cell_type": "code",
      "source": [
        "salary_data.shape"
      ],
      "metadata": {
        "colab": {
          "base_uri": "https://localhost:8080/"
        },
        "id": "tyG5v0G-pP_6",
        "outputId": "0e66b0fc-cf13-492d-c8ce-4a0e99fba075"
      },
      "execution_count": 9,
      "outputs": [
        {
          "output_type": "execute_result",
          "data": {
            "text/plain": [
              "(30, 2)"
            ]
          },
          "metadata": {},
          "execution_count": 9
        }
      ]
    },
    {
      "cell_type": "code",
      "source": [
        "#checking for missing values\n",
        "salary_data.isnull().sum()\n"
      ],
      "metadata": {
        "colab": {
          "base_uri": "https://localhost:8080/",
          "height": 147
        },
        "id": "GCZj508fpT63",
        "outputId": "4620af91-209f-4138-dab6-4c81fca5ab76"
      },
      "execution_count": 10,
      "outputs": [
        {
          "output_type": "execute_result",
          "data": {
            "text/plain": [
              "YearsExperience    0\n",
              "Salary             0\n",
              "dtype: int64"
            ],
            "text/html": [
              "<div>\n",
              "<style scoped>\n",
              "    .dataframe tbody tr th:only-of-type {\n",
              "        vertical-align: middle;\n",
              "    }\n",
              "\n",
              "    .dataframe tbody tr th {\n",
              "        vertical-align: top;\n",
              "    }\n",
              "\n",
              "    .dataframe thead th {\n",
              "        text-align: right;\n",
              "    }\n",
              "</style>\n",
              "<table border=\"1\" class=\"dataframe\">\n",
              "  <thead>\n",
              "    <tr style=\"text-align: right;\">\n",
              "      <th></th>\n",
              "      <th>0</th>\n",
              "    </tr>\n",
              "  </thead>\n",
              "  <tbody>\n",
              "    <tr>\n",
              "      <th>YearsExperience</th>\n",
              "      <td>0</td>\n",
              "    </tr>\n",
              "    <tr>\n",
              "      <th>Salary</th>\n",
              "      <td>0</td>\n",
              "    </tr>\n",
              "  </tbody>\n",
              "</table>\n",
              "</div><br><label><b>dtype:</b> int64</label>"
            ]
          },
          "metadata": {},
          "execution_count": 10
        }
      ]
    },
    {
      "cell_type": "code",
      "source": [
        "#Splitting feature and target\n",
        "X=salary_data.iloc[:,:-1].values #seperating thee salary column\n",
        "Y=salary_data.iloc[:,1].values #seperating experience column\n",
        "print(X)\n",
        "print(Y)"
      ],
      "metadata": {
        "colab": {
          "base_uri": "https://localhost:8080/"
        },
        "id": "sZ_fQIhHpi9A",
        "outputId": "934a2424-6090-4ad9-8b4a-2535f3603595"
      },
      "execution_count": 11,
      "outputs": [
        {
          "output_type": "stream",
          "name": "stdout",
          "text": [
            "[[ 1.1]\n",
            " [ 1.3]\n",
            " [ 1.5]\n",
            " [ 2. ]\n",
            " [ 2.2]\n",
            " [ 2.9]\n",
            " [ 3. ]\n",
            " [ 3.2]\n",
            " [ 3.2]\n",
            " [ 3.7]\n",
            " [ 3.9]\n",
            " [ 4. ]\n",
            " [ 4. ]\n",
            " [ 4.1]\n",
            " [ 4.5]\n",
            " [ 4.9]\n",
            " [ 5.1]\n",
            " [ 5.3]\n",
            " [ 5.9]\n",
            " [ 6. ]\n",
            " [ 6.8]\n",
            " [ 7.1]\n",
            " [ 7.9]\n",
            " [ 8.2]\n",
            " [ 8.7]\n",
            " [ 9. ]\n",
            " [ 9.5]\n",
            " [ 9.6]\n",
            " [10.3]\n",
            " [10.5]]\n",
            "[ 39343  46205  37731  43525  39891  56642  60150  54445  64445  57189\n",
            "  63218  55794  56957  57081  61111  67938  66029  83088  81363  93940\n",
            "  91738  98273 101302 113812 109431 105582 116969 112635 122391 121872]\n"
          ]
        }
      ]
    },
    {
      "cell_type": "code",
      "source": [
        "#splitting into training ad test data\n",
        "X_train,X_test,Y_train,Y_test=train_test_split(X,Y,test_size=1/3,random_state=2)"
      ],
      "metadata": {
        "id": "VqZ6UCTSqBOG"
      },
      "execution_count": 12,
      "outputs": []
    },
    {
      "cell_type": "code",
      "source": [
        "#Training the linear regression model\n",
        "model=Linear_Regression(learning_rate=0.02,no_of_iterations=1000)"
      ],
      "metadata": {
        "id": "jml-1JyPqk__"
      },
      "execution_count": 25,
      "outputs": []
    },
    {
      "cell_type": "code",
      "source": [
        "model.fit(X_train,Y_train)"
      ],
      "metadata": {
        "id": "29pkP_jyq4Jr"
      },
      "execution_count": 26,
      "outputs": []
    },
    {
      "cell_type": "code",
      "source": [
        "#printing the parameter values(weight and bias)\n",
        "print('weight = ',model.w)\n",
        "print('bias = ',model.b)"
      ],
      "metadata": {
        "colab": {
          "base_uri": "https://localhost:8080/"
        },
        "id": "-xPX-TSvrCNo",
        "outputId": "e1b0b901-bad2-4174-a5dd-69bfc58bd461"
      },
      "execution_count": 27,
      "outputs": [
        {
          "output_type": "stream",
          "name": "stdout",
          "text": [
            "weight =  [9514.40099904]\n",
            "bias =  23697.406507136307\n"
          ]
        }
      ]
    },
    {
      "cell_type": "markdown",
      "source": [
        "y =9514.40099904(x) + 23697.406507136307\n",
        "\n",
        "salary=9514.40099904(experience) + 23697.406507136307"
      ],
      "metadata": {
        "id": "ZEObWKVXrlmn"
      }
    },
    {
      "cell_type": "markdown",
      "source": [
        "**Predicting the salary values for test data**"
      ],
      "metadata": {
        "id": "5P14FhtusFoN"
      }
    },
    {
      "cell_type": "code",
      "source": [
        "test_data_prediction=model.predict(X_test)"
      ],
      "metadata": {
        "id": "ZsnOtiYWrez-"
      },
      "execution_count": 28,
      "outputs": []
    },
    {
      "cell_type": "code",
      "source": [
        "print(test_data_prediction)"
      ],
      "metadata": {
        "colab": {
          "base_uri": "https://localhost:8080/"
        },
        "id": "iOrd-z1LsM3X",
        "outputId": "a2ae6c10-dbf2-4b3a-e184-fe8fe4934af0"
      },
      "execution_count": 29,
      "outputs": [
        {
          "output_type": "stream",
          "name": "stdout",
          "text": [
            "[ 36066.12780588  34163.24760607  66512.21100279  58900.69020357\n",
            "  91249.65360029  80783.81250135 101715.49469922  52240.60950424\n",
            "  42726.20850521  88395.33330058]\n"
          ]
        }
      ]
    },
    {
      "cell_type": "markdown",
      "source": [
        "Visualizing predicted and actual values"
      ],
      "metadata": {
        "id": "8c5CAnZ6sX-U"
      }
    },
    {
      "cell_type": "code",
      "source": [
        "plt.scatter(X_test,Y_test)\n",
        "plt.plot(X_test,test_data_prediction,color='red')\n",
        "plt.xlabel('Experience')\n",
        "plt.ylabel('Salary')\n",
        "#red dots are the true values\n",
        "#blue line is the predicted values"
      ],
      "metadata": {
        "colab": {
          "base_uri": "https://localhost:8080/",
          "height": 467
        },
        "id": "ayCBdsAtsWEg",
        "outputId": "d7b18397-e522-4067-fbb7-d5928ce399ef"
      },
      "execution_count": 30,
      "outputs": [
        {
          "output_type": "execute_result",
          "data": {
            "text/plain": [
              "Text(0, 0.5, 'Salary')"
            ]
          },
          "metadata": {},
          "execution_count": 30
        },
        {
          "output_type": "display_data",
          "data": {
            "text/plain": [
              "<Figure size 640x480 with 1 Axes>"
            ],
            "image/png": "[encoded data removed]"
          },
          "metadata": {}
        }
      ]
    },
    {
      "cell_type": "code",
      "source": [],
      "metadata": {
        "id": "SyQ7yQtqsdoM"
      },
      "execution_count": null,
      "outputs": []
    }
  ]
}